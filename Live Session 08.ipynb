{
 "cells": [
  {
   "cell_type": "markdown",
   "metadata": {},
   "source": [
    "# Players Example"
   ]
  },
  {
   "cell_type": "code",
   "execution_count": 24,
   "metadata": {
    "collapsed": true,
    "jupyter": {
     "outputs_hidden": true
    }
   },
   "outputs": [],
   "source": [
    "raw_players = spark \\\n",
    "  .read \\\n",
    "  .format(\"kafka\") \\\n",
    "  .option(\"kafka.bootstrap.servers\", \"kafka:29092\") \\\n",
    "  .option(\"subscribe\",\"players\") \\\n",
    "  .option(\"startingOffsets\", \"earliest\") \\\n",
    "  .option(\"endingOffsets\", \"latest\") \\\n",
    "  .load() "
   ]
  },
  {
   "cell_type": "code",
   "execution_count": 25,
   "metadata": {},
   "outputs": [
    {
     "data": {
      "text/plain": [
       "DataFrame[key: binary, value: binary, topic: string, partition: int, offset: bigint, timestamp: timestamp, timestampType: int]"
      ]
     },
     "execution_count": 25,
     "metadata": {},
     "output_type": "execute_result"
    }
   ],
   "source": [
    "raw_players.cache()"
   ]
  },
  {
   "cell_type": "code",
   "execution_count": 26,
   "metadata": {},
   "outputs": [
    {
     "name": "stdout",
     "output_type": "stream",
     "text": [
      "root\n",
      " |-- key: binary (nullable = true)\n",
      " |-- value: binary (nullable = true)\n",
      " |-- topic: string (nullable = true)\n",
      " |-- partition: integer (nullable = true)\n",
      " |-- offset: long (nullable = true)\n",
      " |-- timestamp: timestamp (nullable = true)\n",
      " |-- timestampType: integer (nullable = true)\n",
      "\n"
     ]
    }
   ],
   "source": [
    "raw_players.printSchema()"
   ]
  },
  {
   "cell_type": "code",
   "execution_count": 27,
   "metadata": {},
   "outputs": [
    {
     "name": "stdout",
     "output_type": "stream",
     "text": [
      "+--------------------+\n",
      "|               value|\n",
      "+--------------------+\n",
      "|{\"Competition\":\"W...|\n",
      "|{\"Competition\":\"W...|\n",
      "|{\"Competition\":\"W...|\n",
      "|{\"Competition\":\"W...|\n",
      "+--------------------+\n",
      "only showing top 4 rows\n",
      "\n"
     ]
    }
   ],
   "source": [
    "players = raw_players.select(raw_players.value.cast('string'))\n",
    "players.show(4)"
   ]
  },
  {
   "cell_type": "code",
   "execution_count": 28,
   "metadata": {
    "collapsed": true,
    "jupyter": {
     "outputs_hidden": true
    }
   },
   "outputs": [],
   "source": [
    "players.write.parquet(\"/tmp/players\")"
   ]
  },
  {
   "cell_type": "code",
   "execution_count": 29,
   "metadata": {},
   "outputs": [
    {
     "name": "stdout",
     "output_type": "stream",
     "text": [
      "+--------------------+\n",
      "|               value|\n",
      "+--------------------+\n",
      "|{\"Competition\":\"W...|\n",
      "|{\"Competition\":\"W...|\n",
      "|{\"Competition\":\"W...|\n",
      "|{\"Competition\":\"W...|\n",
      "|{\"Competition\":\"W...|\n",
      "|{\"Competition\":\"W...|\n",
      "|{\"Competition\":\"W...|\n",
      "|{\"Competition\":\"W...|\n",
      "|{\"Competition\":\"W...|\n",
      "|{\"Competition\":\"W...|\n",
      "|{\"Competition\":\"W...|\n",
      "|{\"Competition\":\"W...|\n",
      "|{\"Competition\":\"W...|\n",
      "|{\"Competition\":\"W...|\n",
      "|{\"Competition\":\"W...|\n",
      "|{\"Competition\":\"W...|\n",
      "|{\"Competition\":\"W...|\n",
      "|{\"Competition\":\"W...|\n",
      "|{\"Competition\":\"W...|\n",
      "|{\"Competition\":\"W...|\n",
      "+--------------------+\n",
      "only showing top 20 rows\n",
      "\n"
     ]
    }
   ],
   "source": [
    "# Read from parquet\n",
    "read_players = spark.read.parquet('/tmp/players')\n",
    "read_players.show()"
   ]
  },
  {
   "cell_type": "code",
   "execution_count": 42,
   "metadata": {},
   "outputs": [
    {
     "name": "stdout",
     "output_type": "stream",
     "text": [
      "+---------+--------------------+\n",
      "|json.Team|       json.FullName|\n",
      "+---------+--------------------+\n",
      "|Argentina|        Ãngel Bossio|\n",
      "|Argentina|        Juan Botasso|\n",
      "|Argentina|      Roberto Cherro|\n",
      "|Argentina|   Alberto Chividini|\n",
      "|Argentina|                    |\n",
      "|Argentina|                    |\n",
      "|Argentina|       Juan Evaristo|\n",
      "|Argentina|      Mario Evaristo|\n",
      "|Argentina|     Manuel Ferreira|\n",
      "|Argentina|          Luis Monti|\n",
      "|Argentina|                    |\n",
      "|Argentina|   Rodolfo Orlandini|\n",
      "|Argentina|Fernando Paternoster|\n",
      "|Argentina|   Natalio Perinetti|\n",
      "|Argentina|     Carlos Peucelle|\n",
      "|Argentina|     Edmundo Piaggio|\n",
      "|Argentina|  Alejandro Scopelli|\n",
      "|Argentina|      Carlos Spadaro|\n",
      "|Argentina|                    |\n",
      "|Argentina|                    |\n",
      "+---------+--------------------+\n",
      "only showing top 20 rows\n",
      "\n"
     ]
    }
   ],
   "source": [
    "# Transform to DataFrame\n",
    "from pyspark.sql.functions import from_json, col\n",
    "json_schema = spark.read.json(read_players.rdd.map(lambda row: row.value)).schema\n",
    "read_players = read_players.withColumn('json', from_json(col('value'), json_schema))\n",
    "read_players.select(read_players.json.Team, read_players.json.FullName).show()"
   ]
  },
  {
   "cell_type": "markdown",
   "metadata": {},
   "source": [
    "# Commits Example"
   ]
  },
  {
   "cell_type": "code",
   "execution_count": 1,
   "metadata": {
    "collapsed": true,
    "jupyter": {
     "outputs_hidden": true
    }
   },
   "outputs": [],
   "source": [
    "import json\n",
    "import pandas as pd\n",
    "from pyspark.sql.functions import explode, split\n",
    "from pyspark.sql.types import StructType, StructField, StringType, IntegerType, TimestampType\n",
    "import warnings"
   ]
  },
  {
   "cell_type": "code",
   "execution_count": 2,
   "metadata": {
    "collapsed": true,
    "jupyter": {
     "outputs_hidden": true
    }
   },
   "outputs": [],
   "source": [
    "raw_commits = spark \\\n",
    "  .read \\\n",
    "  .format(\"kafka\") \\\n",
    "  .option(\"kafka.bootstrap.servers\", \"kafka:29092\") \\\n",
    "  .option(\"subscribe\",\"commits\") \\\n",
    "  .option(\"startingOffsets\", \"earliest\") \\\n",
    "  .option(\"endingOffsets\", \"latest\") \\\n",
    "  .load() "
   ]
  },
  {
   "cell_type": "code",
   "execution_count": 3,
   "metadata": {},
   "outputs": [
    {
     "data": {
      "text/plain": [
       "DataFrame[key: binary, value: binary, topic: string, partition: int, offset: bigint, timestamp: timestamp, timestampType: int]"
      ]
     },
     "execution_count": 3,
     "metadata": {},
     "output_type": "execute_result"
    }
   ],
   "source": [
    "raw_commits.cache()"
   ]
  },
  {
   "cell_type": "code",
   "execution_count": 4,
   "metadata": {
    "collapsed": true,
    "jupyter": {
     "outputs_hidden": true
    }
   },
   "outputs": [],
   "source": [
    "commits = raw_commits.select(raw_commits.value.cast('string'))"
   ]
  },
  {
   "cell_type": "code",
   "execution_count": 5,
   "metadata": {},
   "outputs": [
    {
     "name": "stdout",
     "output_type": "stream",
     "text": [
      "+--------------------+\n",
      "|               value|\n",
      "+--------------------+\n",
      "|{\"sha\":\"bd34b8dd2...|\n",
      "|{\"sha\":\"61edf3fa9...|\n",
      "|{\"sha\":\"8eff744ee...|\n",
      "|{\"sha\":\"b4742c125...|\n",
      "|{\"sha\":\"9a4576e75...|\n",
      "|{\"sha\":\"b5560d842...|\n",
      "|{\"sha\":\"79ece3598...|\n",
      "|{\"sha\":\"f06deb828...|\n",
      "|{\"sha\":\"0c9eaceda...|\n",
      "|{\"sha\":\"476b36770...|\n",
      "|{\"sha\":\"239278fd3...|\n",
      "|{\"sha\":\"98b36e74b...|\n",
      "|{\"sha\":\"c3cbbdd8a...|\n",
      "|{\"sha\":\"18879fb99...|\n",
      "|{\"sha\":\"bdaddcf10...|\n",
      "|{\"sha\":\"7b81a836c...|\n",
      "|{\"sha\":\"c538237f4...|\n",
      "|{\"sha\":\"4a6241be0...|\n",
      "|{\"sha\":\"1900c7bca...|\n",
      "|{\"sha\":\"578d53623...|\n",
      "+--------------------+\n",
      "only showing top 20 rows\n",
      "\n"
     ]
    }
   ],
   "source": [
    "commits.show()"
   ]
  },
  {
   "cell_type": "code",
   "execution_count": 6,
   "metadata": {},
   "outputs": [
    {
     "data": {
      "text/plain": [
       "Row(value='{\"sha\":\"bd34b8dd2e441440928bfd51bfbfa5facb424557\",\"commit\":{\"author\":{\"name\":\"Paul Chvostek\",\"email\":\"paul+gitkraken@it.ca\",\"date\":\"2018-01-04T19:35:46Z\"},\"committer\":{\"name\":\"Nico Williams\",\"email\":\"nico@cryptonector.com\",\"date\":\"2018-01-04T21:50:20Z\"},\"message\":\"fix FreeBSD install instructions\",\"tree\":{\"sha\":\"9df965dfa5f4a92a4aaca3fb14586ab4813c9bf7\",\"url\":\"https://api.github.com/repos/stedolan/jq/git/trees/9df965dfa5f4a92a4aaca3fb14586ab4813c9bf7\"},\"url\":\"https://api.github.com/repos/stedolan/jq/git/commits/bd34b8dd2e441440928bfd51bfbfa5facb424557\",\"comment_count\":0,\"verification\":{\"verified\":false,\"reason\":\"unsigned\",\"signature\":null,\"payload\":null}},\"url\":\"https://api.github.com/repos/stedolan/jq/commits/bd34b8dd2e441440928bfd51bfbfa5facb424557\",\"html_url\":\"https://github.com/stedolan/jq/commit/bd34b8dd2e441440928bfd51bfbfa5facb424557\",\"comments_url\":\"https://api.github.com/repos/stedolan/jq/commits/bd34b8dd2e441440928bfd51bfbfa5facb424557/comments\",\"author\":null,\"committer\":{\"login\":\"nicowilliams\",\"id\":604851,\"avatar_url\":\"https://avatars2.githubusercontent.com/u/604851?v=4\",\"gravatar_id\":\"\",\"url\":\"https://api.github.com/users/nicowilliams\",\"html_url\":\"https://github.com/nicowilliams\",\"followers_url\":\"https://api.github.com/users/nicowilliams/followers\",\"following_url\":\"https://api.github.com/users/nicowilliams/following{/other_user}\",\"gists_url\":\"https://api.github.com/users/nicowilliams/gists{/gist_id}\",\"starred_url\":\"https://api.github.com/users/nicowilliams/starred{/owner}{/repo}\",\"subscriptions_url\":\"https://api.github.com/users/nicowilliams/subscriptions\",\"organizations_url\":\"https://api.github.com/users/nicowilliams/orgs\",\"repos_url\":\"https://api.github.com/users/nicowilliams/repos\",\"events_url\":\"https://api.github.com/users/nicowilliams/events{/privacy}\",\"received_events_url\":\"https://api.github.com/users/nicowilliams/received_events\",\"type\":\"User\",\"site_admin\":false},\"parents\":[{\"sha\":\"61edf3fa93f6177ef099b1b0cb2b49813a35c546\",\"url\":\"https://api.github.com/repos/stedolan/jq/commits/61edf3fa93f6177ef099b1b0cb2b49813a35c546\",\"html_url\":\"https://github.com/stedolan/jq/commit/61edf3fa93f6177ef099b1b0cb2b49813a35c546\"}]}')"
      ]
     },
     "execution_count": 6,
     "metadata": {},
     "output_type": "execute_result"
    }
   ],
   "source": [
    "commits.collect()[0]"
   ]
  },
  {
   "cell_type": "markdown",
   "metadata": {},
   "source": [
    "## Spark Infered Schema"
   ]
  },
  {
   "cell_type": "code",
   "execution_count": 7,
   "metadata": {},
   "outputs": [
    {
     "name": "stderr",
     "output_type": "stream",
     "text": [
      "/spark-2.2.0-bin-hadoop2.6/python/pyspark/sql/session.py:351: UserWarning: Using RDD of dict to inferSchema is deprecated. Use pyspark.sql.Row instead\n",
      "  warnings.warn(\"Using RDD of dict to inferSchema is deprecated. \"\n"
     ]
    }
   ],
   "source": [
    "extracted_commits = commits.rdd.map(lambda x: json.loads(x.value)).toDF()"
   ]
  },
  {
   "cell_type": "code",
   "execution_count": 8,
   "metadata": {},
   "outputs": [
    {
     "name": "stdout",
     "output_type": "stream",
     "text": [
      "+--------------------+--------------------+--------------------+--------------------+--------------------+--------------------+--------------------+--------------------+\n",
      "|              author|        comments_url|              commit|           committer|            html_url|             parents|                 sha|                 url|\n",
      "+--------------------+--------------------+--------------------+--------------------+--------------------+--------------------+--------------------+--------------------+\n",
      "|                null|https://api.githu...|Map(author -> Map...|Map(gists_url -> ...|https://github.co...|[Map(sha -> 61edf...|bd34b8dd2e4414409...|https://api.githu...|\n",
      "|Map(gists_url -> ...|https://api.githu...|Map(author -> Map...|Map(gists_url -> ...|https://github.co...|[Map(sha -> 8eff7...|61edf3fa93f6177ef...|https://api.githu...|\n",
      "|Map(gists_url -> ...|https://api.githu...|Map(author -> Map...|Map(gists_url -> ...|https://github.co...|[Map(sha -> b4742...|8eff744eecb9ab2f4...|https://api.githu...|\n",
      "|Map(gists_url -> ...|https://api.githu...|Map(author -> Map...|Map(gists_url -> ...|https://github.co...|[Map(sha -> 9a457...|b4742c12570481786...|https://api.githu...|\n",
      "|Map(gists_url -> ...|https://api.githu...|Map(author -> Map...|Map(gists_url -> ...|https://github.co...|[Map(sha -> b5560...|9a4576e7567dd38b9...|https://api.githu...|\n",
      "|Map(gists_url -> ...|https://api.githu...|Map(author -> Map...|Map(gists_url -> ...|https://github.co...|[Map(sha -> 79ece...|b5560d8420d330c4f...|https://api.githu...|\n",
      "|Map(gists_url -> ...|https://api.githu...|Map(author -> Map...|Map(gists_url -> ...|https://github.co...|[Map(sha -> f06de...|79ece359819cdd7d0...|https://api.githu...|\n",
      "|Map(gists_url -> ...|https://api.githu...|Map(author -> Map...|Map(gists_url -> ...|https://github.co...|[Map(sha -> 0c9ea...|f06deb828a318536b...|https://api.githu...|\n",
      "|Map(gists_url -> ...|https://api.githu...|Map(author -> Map...|Map(gists_url -> ...|https://github.co...|[Map(sha -> 476b3...|0c9eacedaae1e0d53...|https://api.githu...|\n",
      "|Map(gists_url -> ...|https://api.githu...|Map(author -> Map...|Map(gists_url -> ...|https://github.co...|[Map(sha -> 23927...|476b36770d9337381...|https://api.githu...|\n",
      "|Map(gists_url -> ...|https://api.githu...|Map(author -> Map...|Map(gists_url -> ...|https://github.co...|[Map(sha -> 98b36...|239278fd3a02dc1ae...|https://api.githu...|\n",
      "|Map(gists_url -> ...|https://api.githu...|Map(author -> Map...|Map(gists_url -> ...|https://github.co...|[Map(sha -> c3cbb...|98b36e74b8174da66...|https://api.githu...|\n",
      "|Map(gists_url -> ...|https://api.githu...|Map(author -> Map...|Map(gists_url -> ...|https://github.co...|[Map(sha -> 18879...|c3cbbdd8a201aafdc...|https://api.githu...|\n",
      "|Map(gists_url -> ...|https://api.githu...|Map(author -> Map...|Map(gists_url -> ...|https://github.co...|[Map(sha -> bdadd...|18879fb99367924cd...|https://api.githu...|\n",
      "|Map(gists_url -> ...|https://api.githu...|Map(author -> Map...|Map(gists_url -> ...|https://github.co...|[Map(sha -> 7b81a...|bdaddcf10730e2a26...|https://api.githu...|\n",
      "|Map(gists_url -> ...|https://api.githu...|Map(author -> Map...|Map(gists_url -> ...|https://github.co...|[Map(sha -> c5382...|7b81a836c31500e68...|https://api.githu...|\n",
      "|Map(gists_url -> ...|https://api.githu...|Map(author -> Map...|Map(gists_url -> ...|https://github.co...|[Map(sha -> 4a624...|c538237f4e4c381d3...|https://api.githu...|\n",
      "|Map(gists_url -> ...|https://api.githu...|Map(author -> Map...|Map(gists_url -> ...|https://github.co...|[Map(sha -> 1900c...|4a6241be0697bbe4e...|https://api.githu...|\n",
      "|Map(gists_url -> ...|https://api.githu...|Map(author -> Map...|Map(gists_url -> ...|https://github.co...|[Map(sha -> 578d5...|1900c7bcac7677778...|https://api.githu...|\n",
      "|Map(gists_url -> ...|https://api.githu...|Map(author -> Map...|Map(gists_url -> ...|https://github.co...|[Map(sha -> b0d6d...|578d536233b628847...|https://api.githu...|\n",
      "+--------------------+--------------------+--------------------+--------------------+--------------------+--------------------+--------------------+--------------------+\n",
      "only showing top 20 rows\n",
      "\n"
     ]
    }
   ],
   "source": [
    "extracted_commits.show()"
   ]
  },
  {
   "cell_type": "code",
   "execution_count": 10,
   "metadata": {
    "collapsed": true,
    "jupyter": {
     "outputs_hidden": true
    }
   },
   "outputs": [],
   "source": [
    "extracted_commits.registerTempTable('commits')"
   ]
  },
  {
   "cell_type": "code",
   "execution_count": 11,
   "metadata": {},
   "outputs": [
    {
     "name": "stdout",
     "output_type": "stream",
     "text": [
      "+--------------------+-------+----------------+\n",
      "|                 sha|message|            name|\n",
      "+--------------------+-------+----------------+\n",
      "|bd34b8dd2e4414409...|   null|   Paul Chvostek|\n",
      "|61edf3fa93f6177ef...|   null|     Larry Aasen|\n",
      "|8eff744eecb9ab2f4...|   null|Nicolas Williams|\n",
      "|b4742c12570481786...|   null|    David Fetter|\n",
      "|9a4576e7567dd38b9...|   null|Nicolas Williams|\n",
      "|b5560d8420d330c4f...|   null|Nicolas Williams|\n",
      "|79ece359819cdd7d0...|   null|William Langford|\n",
      "|f06deb828a318536b...|   null|William Langford|\n",
      "|0c9eacedaae1e0d53...|   null|William Langford|\n",
      "|476b36770d9337381...|   null| Eric Bréchemier|\n",
      "|239278fd3a02dc1ae...|   null|    Andrew Speed|\n",
      "|98b36e74b8174da66...|   null|William Langford|\n",
      "|c3cbbdd8a201aafdc...|   null|William Langford|\n",
      "|18879fb99367924cd...|   null|Nicolas Williams|\n",
      "|bdaddcf10730e2a26...|   null|         trantor|\n",
      "|7b81a836c31500e68...|   null|William Langford|\n",
      "|c538237f4e4c381d3...|   null|Nicolas Williams|\n",
      "|4a6241be0697bbe4e...|   null|Nicolas Williams|\n",
      "|1900c7bcac7677778...|   null|Nicolas Williams|\n",
      "|578d536233b628847...|   null|Nicolas Williams|\n",
      "+--------------------+-------+----------------+\n",
      "only showing top 20 rows\n",
      "\n"
     ]
    }
   ],
   "source": [
    "spark.sql(\"select sha, commit.message, commit.author.name from commits\").show()"
   ]
  },
  {
   "cell_type": "code",
   "execution_count": 10,
   "metadata": {},
   "outputs": [
    {
     "name": "stdout",
     "output_type": "stream",
     "text": [
      "root\n",
      " |-- author: map (nullable = true)\n",
      " |    |-- key: string\n",
      " |    |-- value: string (valueContainsNull = true)\n",
      " |-- comments_url: string (nullable = true)\n",
      " |-- commit: map (nullable = true)\n",
      " |    |-- key: string\n",
      " |    |-- value: map (valueContainsNull = true)\n",
      " |    |    |-- key: string\n",
      " |    |    |-- value: string (valueContainsNull = true)\n",
      " |-- committer: map (nullable = true)\n",
      " |    |-- key: string\n",
      " |    |-- value: string (valueContainsNull = true)\n",
      " |-- html_url: string (nullable = true)\n",
      " |-- parents: array (nullable = true)\n",
      " |    |-- element: map (containsNull = true)\n",
      " |    |    |-- key: string\n",
      " |    |    |-- value: string (valueContainsNull = true)\n",
      " |-- sha: string (nullable = true)\n",
      " |-- url: string (nullable = true)\n",
      "\n"
     ]
    }
   ],
   "source": [
    "extracted_commits.printSchema()"
   ]
  },
  {
   "cell_type": "markdown",
   "metadata": {},
   "source": [
    "# Force the Schema"
   ]
  },
  {
   "cell_type": "code",
   "execution_count": 12,
   "metadata": {},
   "outputs": [],
   "source": [
    "final_schema = StructType([StructField('sha', StringType(), True),\n",
    "                     StructField('url', StringType(), True),\n",
    "                     StructField('html_url', StringType(), True),\n",
    "                     StructField('comments_url', StringType(), True),\n",
    "                     StructField('commit', StructType([\n",
    "                         StructField('message', StringType(), True),\n",
    "                         StructField('author', StructType([\n",
    "                             StructField('name', StringType(), True),\n",
    "                             StructField('email', StringType(), True),\n",
    "                             StructField('date', StringType(), True)\n",
    "                         ]))]))])"
   ]
  },
  {
   "cell_type": "code",
   "execution_count": 13,
   "metadata": {
    "collapsed": true,
    "jupyter": {
     "outputs_hidden": true
    }
   },
   "outputs": [],
   "source": [
    "focused_extracted_commits = commits.rdd.map(lambda x: json.loads(x.value)).toDF(schema=final_schema)"
   ]
  },
  {
   "cell_type": "code",
   "execution_count": 14,
   "metadata": {},
   "outputs": [
    {
     "name": "stdout",
     "output_type": "stream",
     "text": [
      "+--------------------+--------------------+--------------------+--------------------+--------------------+\n",
      "|                 sha|                 url|            html_url|        comments_url|              commit|\n",
      "+--------------------+--------------------+--------------------+--------------------+--------------------+\n",
      "|bd34b8dd2e4414409...|https://api.githu...|https://github.co...|https://api.githu...|[fix FreeBSD inst...|\n",
      "|61edf3fa93f6177ef...|https://api.githu...|https://github.co...|https://api.githu...|[Updated the comp...|\n",
      "|8eff744eecb9ab2f4...|https://api.githu...|https://github.co...|https://api.githu...|[Update AUTHORS,[...|\n",
      "|b4742c12570481786...|https://api.githu...|https://github.co...|https://api.githu...|[Added rawfile\n",
      "\n",
      "I...|\n",
      "|9a4576e7567dd38b9...|https://api.githu...|https://github.co...|https://api.githu...|[Revert \"reduce: ...|\n",
      "+--------------------+--------------------+--------------------+--------------------+--------------------+\n",
      "only showing top 5 rows\n",
      "\n"
     ]
    }
   ],
   "source": [
    "focused_extracted_commits.show(5)"
   ]
  },
  {
   "cell_type": "code",
   "execution_count": 20,
   "metadata": {},
   "outputs": [
    {
     "data": {
      "text/plain": [
       "'Paul Chvostek'"
      ]
     },
     "execution_count": 20,
     "metadata": {},
     "output_type": "execute_result"
    }
   ],
   "source": [
    "focused_extracted_commits.take(1)[0]['commit']['author']['name']"
   ]
  },
  {
   "cell_type": "code",
   "execution_count": 21,
   "metadata": {
    "collapsed": true,
    "jupyter": {
     "outputs_hidden": true
    }
   },
   "outputs": [],
   "source": [
    "focused_extracted_commits.registerTempTable('focused_commits')"
   ]
  },
  {
   "cell_type": "code",
   "execution_count": 22,
   "metadata": {},
   "outputs": [
    {
     "name": "stdout",
     "output_type": "stream",
     "text": [
      "root\n",
      " |-- sha: string (nullable = true)\n",
      " |-- url: string (nullable = true)\n",
      " |-- html_url: string (nullable = true)\n",
      " |-- comments_url: string (nullable = true)\n",
      " |-- commit: struct (nullable = true)\n",
      " |    |-- message: string (nullable = true)\n",
      " |    |-- author: struct (nullable = true)\n",
      " |    |    |-- name: string (nullable = true)\n",
      " |    |    |-- email: string (nullable = true)\n",
      " |    |    |-- date: string (nullable = true)\n",
      "\n"
     ]
    }
   ],
   "source": [
    "focused_extracted_commits.printSchema()"
   ]
  },
  {
   "cell_type": "code",
   "execution_count": 23,
   "metadata": {},
   "outputs": [
    {
     "name": "stdout",
     "output_type": "stream",
     "text": [
      "+--------------------+--------------------+----------------+\n",
      "|                 sha|             message|            name|\n",
      "+--------------------+--------------------+----------------+\n",
      "|bd34b8dd2e4414409...|fix FreeBSD insta...|   Paul Chvostek|\n",
      "|61edf3fa93f6177ef...|Updated the compi...|     Larry Aasen|\n",
      "|8eff744eecb9ab2f4...|      Update AUTHORS|Nicolas Williams|\n",
      "|b4742c12570481786...|Added rawfile\n",
      "\n",
      "In...|    David Fetter|\n",
      "|9a4576e7567dd38b9...|Revert \"reduce: h...|Nicolas Williams|\n",
      "|b5560d8420d330c4f...|Fix import as $da...|Nicolas Williams|\n",
      "|79ece359819cdd7d0...|Fix hang for slur...|William Langford|\n",
      "|f06deb828a318536b...|           Fix #1534|William Langford|\n",
      "|0c9eacedaae1e0d53...|Actually fix the ...|William Langford|\n",
      "|476b36770d9337381...|Keep object keys ...| Eric Bréchemier|\n",
      "|239278fd3a02dc1ae...|Use rvm to instal...|    Andrew Speed|\n",
      "|98b36e74b8174da66...|Fix strptime test...|William Langford|\n",
      "|c3cbbdd8a201aafdc...|Fix memory leaks ...|William Langford|\n",
      "|18879fb99367924cd...|Fix leak on error...|Nicolas Williams|\n",
      "|bdaddcf10730e2a26...|Typo correction\n",
      "\n",
      "...|         trantor|\n",
      "|7b81a836c31500e68...|Merge pull reques...|William Langford|\n",
      "|c538237f4e4c381d3...|Deal with strptim...|Nicolas Williams|\n",
      "|4a6241be0697bbe4e...|Attempt to fix #1...|Nicolas Williams|\n",
      "|1900c7bcac7677778...|Add private my_ti...|Nicolas Williams|\n",
      "|578d536233b628847...|Fix HAVE_TM_TM_GM...|Nicolas Williams|\n",
      "+--------------------+--------------------+----------------+\n",
      "only showing top 20 rows\n",
      "\n"
     ]
    }
   ],
   "source": [
    "spark.sql(\"select sha, commit.message, commit.author.name from focused_commits\").show()"
   ]
  },
  {
   "cell_type": "code",
   "execution_count": null,
   "metadata": {
    "collapsed": true,
    "jupyter": {
     "outputs_hidden": true
    }
   },
   "outputs": [],
   "source": []
  }
 ],
 "metadata": {
  "environment": {
   "name": "tf2-gpu.2-1.m55",
   "type": "gcloud",
   "uri": "gcr.io/deeplearning-platform-release/tf2-gpu.2-1:m55"
  },
  "kernelspec": {
   "display_name": "Python 3",
   "language": "python",
   "name": "python3"
  },
  "language_info": {
   "codemirror_mode": {
    "name": "ipython",
    "version": 3
   },
   "file_extension": ".py",
   "mimetype": "text/x-python",
   "name": "python",
   "nbconvert_exporter": "python",
   "pygments_lexer": "ipython3",
   "version": "3.7.8"
  }
 },
 "nbformat": 4,
 "nbformat_minor": 4
}
